{
 "cells": [
  {
   "cell_type": "code",
   "execution_count": 4,
   "metadata": {},
   "outputs": [
    {
     "name": "stdout",
     "output_type": "stream",
     "text": [
      "The recent request from Leslie Chung was to add the attached ad to their website, specifically on the homepage above the \"APPLY NOW\" button, replacing the line about the 2024 Grant Application.\n"
     ]
    }
   ],
   "source": [
    "from dotenv import load_dotenv\n",
    "load_dotenv()\n",
    "\n",
    "from custom_gmail_reader import CustomGmailReader\n",
    "from llama_index.core import VectorStoreIndex\n",
    "from llama_index.core.query_engine import RetrieverQueryEngine\n",
    "from llama_index.core.retrievers import VectorIndexRetriever\n",
    "\n",
    "from llama_index.core import Settings\n",
    "from llama_index.core.callbacks import CallbackManager\n",
    "from langfuse.llama_index import LlamaIndexCallbackHandler\n",
    "\n",
    "# Instantiate the CustomGmailReader\n",
    "loader = CustomGmailReader(\n",
    "    query=\"\",\n",
    "    max_results=50,\n",
    "    results_per_page=10,\n",
    "    service=None\n",
    ")\n",
    "\n",
    "langfuse_callback_handler = LlamaIndexCallbackHandler()\n",
    "Settings.callback_manager = CallbackManager([langfuse_callback_handler])\n",
    "\n",
    "# Load the emails\n",
    "documents = loader.load_data()\n",
    "\n",
    "# Create index\n",
    "index = VectorStoreIndex.from_documents(documents)\n",
    "\n",
    "# Create retriever\n",
    "retriever = VectorIndexRetriever(index=index)\n",
    "\n",
    "# Create query engine\n",
    "query_engine = RetrieverQueryEngine(retriever=retriever)\n",
    "\n",
    "# Example query\n",
    "response = query_engine.query(\"What was the recent request from Lesile Chung?\")\n",
    "print(response)"
   ]
  }
 ],
 "metadata": {
  "kernelspec": {
   "display_name": ".venv",
   "language": "python",
   "name": "python3"
  },
  "language_info": {
   "codemirror_mode": {
    "name": "ipython",
    "version": 3
   },
   "file_extension": ".py",
   "mimetype": "text/x-python",
   "name": "python",
   "nbconvert_exporter": "python",
   "pygments_lexer": "ipython3",
   "version": "3.9.6"
  }
 },
 "nbformat": 4,
 "nbformat_minor": 2
}
